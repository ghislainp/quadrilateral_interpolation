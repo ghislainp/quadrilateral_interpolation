{
 "cells": [
  {
   "cell_type": "code",
   "execution_count": null,
   "metadata": {},
   "outputs": [],
   "source": [
    "import os\n",
    "import time\n",
    "from glob import glob\n",
    "\n",
    "import numpy as np\n",
    "import xarray as xr\n",
    "import rioxarray\n",
    "import math\n",
    "\n",
    "import satpy\n",
    "from pyresample import load_area\n",
    "from pyresample import geometry\n",
    "\n",
    "import sys\n",
    "sys.path.append(\"..\")\n",
    "\n",
    "from quadrilateral_interpolation import QuadInterpolationResampler\n",
    "\n",
    "%matplotlib widget\n",
    "import matplotlib.pyplot as plt\n",
    "\n",
    "%load_ext autoreload\n",
    "%autoreload 2"
   ]
  },
  {
   "cell_type": "code",
   "execution_count": null,
   "metadata": {
    "tags": []
   },
   "outputs": [],
   "source": [
    "   \n",
    "def open_olci_file(dirname, bands=None):\n",
    "    filenames = glob(os.path.join(dirname, \"*.nc\"))\n",
    "\n",
    "    scene = satpy.Scene(reader=\"olci_l1b\", filenames=filenames)\n",
    "\n",
    "    variables = {\n",
    "        #'solar_azimuth_angle': 'saa',\n",
    "        # 'solar_zenith_angle': 'sza',\n",
    "        # 'satellite_azimuth_angle': 'vaa',\n",
    "        # 'satellite_zenith_angle': 'vza',\n",
    "        # 'altitude': 'elevation',\n",
    "        'longitude': 'longitude',\n",
    "        'latitude': 'latitude'\n",
    "    }        \n",
    "\n",
    "    if bands is None:\n",
    "        bands = range(1, 22)\n",
    "    bands = [f'Oa{i:02}' for i in bands]\n",
    "    scene.load(bands)\n",
    "\n",
    "    scene.load(list(variables.keys()))\n",
    "    scene.load([satpy.DataQuery(name=band, calibration='reflectance') for band in bands])\n",
    "\n",
    "    dataset = {}\n",
    "    for variable in variables:\n",
    "        dataset[variable] =  scene[variable].compute()\n",
    "\n",
    "    for band in bands:\n",
    "        dataset[band] =  scene[band].compute()\n",
    "\n",
    "    scene.unload()  # probably useless\n",
    "    \n",
    "    return xr.Dataset(dataset)\n",
    "\n",
    "def swath_definition(dataset):\n",
    "    source_def = geometry.SwathDefinition(lons=dataset['longitude'], lats=dataset['latitude'])\n",
    "    return source_def\n"
   ]
  },
  {
   "cell_type": "code",
   "execution_count": null,
   "metadata": {},
   "outputs": [],
   "source": [
    "# unzip an olci file in the olci-data directory\n",
    "# download and unzip here the content of the archive S3A_OL_1_EFR____20170813T130925_20170813T131225_20180706T214618_0180_021_081_1980_LR2_R_NT_002.SEN3.zip or any other OLCI archive from Greenland.\n",
    "# \n",
    "# It can be downloaded from: https://finder.creodias.eu/#\n",
    "# \n",
    "# In the \"path\" input enter: \"S3A_OL_1_EFR____20170813T130925_20170813T131225_20180706T214618_0180_021_081_1980_LR2_R_NT_002.SEN3\"\n",
    "\n",
    "filename = \"olci-data/\""
   ]
  },
  {
   "cell_type": "code",
   "execution_count": null,
   "metadata": {},
   "outputs": [],
   "source": [
    "my_area = load_area('greenland.yaml', 'greenland500')\n",
    "\n",
    "my_area.pixel_upper_left"
   ]
  },
  {
   "cell_type": "code",
   "execution_count": null,
   "metadata": {
    "tags": []
   },
   "outputs": [],
   "source": [
    "t0 = time.time()\n",
    "\n",
    "olci = open_olci_file(filename)\n",
    "           \n",
    "print(\"open file: \", time.time() - t0,\"s\")"
   ]
  },
  {
   "cell_type": "code",
   "execution_count": null,
   "metadata": {
    "tags": []
   },
   "outputs": [],
   "source": [
    "# for single band interpolation\n",
    "\n",
    "source_def = swath_definition(olci)\n",
    "\n",
    "t0 = time.time()\n",
    "\n",
    "resampler = QuadInterpolationResampler(source_def, my_area)\n",
    "regridded = resampler.resample(olci['Oa01'])\n",
    "\n",
    "print(\"reprojection: \", time.time() - t0, \"s\")"
   ]
  },
  {
   "cell_type": "code",
   "execution_count": null,
   "metadata": {},
   "outputs": [],
   "source": [
    "# for multiple bands with the same size/geometry, it is much faster to pass a single rank 3 xr.DataArray \n",
    "# rather than an xr.Dataset with several rank 2 images.\n",
    "\n",
    "source_def = swath_definition(olci)\n",
    "\n",
    "t0 = time.time()\n",
    "\n",
    "dataarray = xr.concat([olci[f'Oa{i:02}'] for i in range(1, 21)], dim='band')\n",
    "\n",
    "resampler = QuadInterpolationResampler(source_def, my_area)\n",
    "regridded = resampler.resample(dataarray)\n",
    "\n",
    "print(\"reprojection (rank 3 DataArray interpolation: \", time.time() - t0, \"s\")\n",
    "\n",
    "t0 = time.time()\n",
    "\n",
    "resampler = QuadInterpolationResampler(source_def, my_area)\n",
    "regridded = resampler.resample(olci)\n",
    "\n",
    "print(\"reprojection (multiple rank 2 interpolations): \", time.time() - t0, \"s\")"
   ]
  },
  {
   "cell_type": "code",
   "execution_count": null,
   "metadata": {},
   "outputs": [],
   "source": [
    "def write_output(data, filename):\n",
    "    # this functions write tif files based on a model file, here \"Oa01\"\n",
    "    # opens a file for writing\n",
    "\n",
    "    data.rio.to_raster(filename)\n",
    "    \n",
    "write_output(regridded['Oa01'], f\"{filename}-quadinterp.tif\")\n",
    "print(regridded)"
   ]
  },
  {
   "cell_type": "code",
   "execution_count": null,
   "metadata": {},
   "outputs": [],
   "source": [
    "plt.figure()\n",
    "# plt.imshow(regridded.sel(band=20).squeeze())\n",
    "plt.imshow(regridded['Oa01'].squeeze())"
   ]
  }
 ],
 "metadata": {
  "kernelspec": {
   "display_name": "satpy",
   "language": "python",
   "name": "satpy"
  },
  "language_info": {
   "codemirror_mode": {
    "name": "ipython",
    "version": 3
   },
   "file_extension": ".py",
   "mimetype": "text/x-python",
   "name": "python",
   "nbconvert_exporter": "python",
   "pygments_lexer": "ipython3",
   "version": "3.9.9"
  }
 },
 "nbformat": 4,
 "nbformat_minor": 4
}
